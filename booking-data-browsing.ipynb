{
 "cells": [
  {
   "cell_type": "code",
   "execution_count": 1,
   "id": "0514ba13",
   "metadata": {},
   "outputs": [],
   "source": [
    "from selenium import webdriver\n",
    "from selenium.common import exceptions\n",
    "from selenium.webdriver.chrome.service import Service as ChromeService\n",
    "from webdriver_manager.chrome import ChromeDriverManager\n",
    "\n",
    "from selenium.webdriver.common.by import By\n",
    "from selenium.webdriver.chrome.options import Options\n",
    "\n",
    "from bs4 import BeautifulSoup as bs\n",
    "from time import sleep\n",
    "\n",
    "\n",
    "# FOR FIRST RUN ONLY\n",
    "# driver = webdriver.Chrome(service=ChromeService(ChromeDriverManager().install()))\n",
    "# driver.quit()"
   ]
  },
  {
   "cell_type": "code",
   "execution_count": 2,
   "id": "a48ad319",
   "metadata": {
    "scrolled": true
   },
   "outputs": [
    {
     "name": "stdout",
     "output_type": "stream",
     "text": [
      "Jumeirah Lowndes Hotel\n",
      "https://www.booking.com/hotel/gb/jumeirah-lowndes.html\n",
      "Montcalm Royal London House-City of London\n",
      "https://www.booking.com/hotel/gb/the-montcalm-royal-london-house.html\n",
      "The Chilworth London Paddington\n",
      "https://www.booking.com/hotel/gb/hydehotel.html\n",
      "The Montcalm At Brewery London City\n",
      "https://www.booking.com/hotel/gb/the-montcalm-london-city.html\n",
      "CARLTON COURT - MAYFAIR\n",
      "https://www.booking.com/hotel/gb/carlton-court-mayfair.html\n"
     ]
    }
   ],
   "source": [
    "options = Options()\n",
    "# options.add_argument('--headless')\n",
    "options.add_argument('--window-size=1920,1080')\n",
    "options.add_argument('--lang=en-US')\n",
    "driver = webdriver.Chrome(options=options)\n",
    "driver.maximize_window()\n",
    "\n",
    "driver.get('https://www.booking.com/')\n",
    "sleep(2)\n",
    "\n",
    "try:\n",
    "    first_popup = driver.find_element(By.CSS_SELECTOR, 'button[aria-label=\"Dismiss sign-in info.\"]')\n",
    "    first_popup.click()\n",
    "except Exception as error:\n",
    "    print(error)\n",
    "    pass\n",
    "    \n",
    "currency_button = driver.find_element(By.CSS_SELECTOR, 'button[data-testid=\"header-currency-picker-trigger\"]')\n",
    "currency_button.click()\n",
    "\n",
    "currency_box = driver.find_element(By.CSS_SELECTOR, 'div[data-testid=\"All currencies\"]')\n",
    "currencies = currency_box.find_elements(By.TAG_NAME, 'li')\n",
    "\n",
    "try:\n",
    "    for i in currencies:\n",
    "        if 'EUR' in i.text:\n",
    "            i.click()\n",
    "        \n",
    "except exceptions.StaleElementReferenceException as e:\n",
    "#     print(e)\n",
    "    pass\n",
    "\n",
    "except Exception as error:\n",
    "    print(error)\n",
    "    driver.quit()\n",
    "\n",
    "finally:\n",
    "    choose_destination = driver.find_element(By.CSS_SELECTOR, 'input[placeholder=\"Where are you going?\"]')\n",
    "    choose_destination.send_keys('London')\n",
    "    sleep(2)\n",
    "\n",
    "    autocomplete_results = driver.find_elements(By.CSS_SELECTOR, 'div[data-testid=\"autocomplete-result\"]')\n",
    "    autocomplete_results[0].click()\n",
    "\n",
    "    check_in_element = driver.find_element(By.CSS_SELECTOR, 'span[data-date=\"2023-03-31\"]')\n",
    "    check_in_element.click()\n",
    "    check_out_element = driver.find_element(By.CSS_SELECTOR, 'span[data-date=\"2023-04-25\"]')\n",
    "    check_out_element.click()\n",
    "\n",
    "    submit_element = driver.find_element(By.CSS_SELECTOR, 'button[type=\"submit\"]')\n",
    "    submit_element.click()\n",
    "\n",
    "    five_stars_element = driver.find_element(By.CSS_SELECTOR, 'div[data-filters-item=\"class:class=5\"]')\n",
    "    five_stars_element.click()\n",
    "\n",
    "    sleep(2.5)\n",
    "    properties = bs(driver.page_source).find_all('div', attrs = {'data-testid': 'property-card'})\n",
    "\n",
    "    driver.quit()\n",
    "    # print(properties[0].prettify())\n",
    "    for prop in properties[:5]:\n",
    "        title = prop.find('div', attrs = {'data-testid': 'title'})\n",
    "        print(title.text)\n",
    "        title_link = prop.find('a', attrs = {'data-testid': 'title-link'})\n",
    "        print(title_link['href'].split('?')[0])"
   ]
  }
 ],
 "metadata": {
  "kernelspec": {
   "display_name": "Python 3 (ipykernel)",
   "language": "python",
   "name": "python3"
  },
  "language_info": {
   "codemirror_mode": {
    "name": "ipython",
    "version": 3
   },
   "file_extension": ".py",
   "mimetype": "text/x-python",
   "name": "python",
   "nbconvert_exporter": "python",
   "pygments_lexer": "ipython3",
   "version": "3.10.9"
  }
 },
 "nbformat": 4,
 "nbformat_minor": 5
}
