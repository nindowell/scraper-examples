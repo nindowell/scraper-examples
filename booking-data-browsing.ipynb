{
 "cells": [
  {
   "cell_type": "code",
   "execution_count": 1,
   "id": "0514ba13",
   "metadata": {},
   "outputs": [],
   "source": [
    "from selenium import webdriver\n",
    "from selenium.webdriver.chrome.service import Service as ChromeService\n",
    "from webdriver_manager.chrome import ChromeDriverManager\n",
    "\n",
    "from selenium.webdriver.common.by import By\n",
    "from selenium.webdriver.chrome.options import Options\n",
    "\n",
    "from time import sleep\n",
    "\n",
    "\n",
    "# FOR FIRST RUN ONLY\n",
    "# driver = webdriver.Chrome(service=ChromeService(ChromeDriverManager().install()))"
   ]
  },
  {
   "cell_type": "code",
   "execution_count": 2,
   "id": "a48ad319",
   "metadata": {
    "scrolled": true
   },
   "outputs": [],
   "source": [
    "options = Options()\n",
    "options.add_argument(\"--window-size=1920,1080\")\n",
    "options.add_argument(\"--lang=en-US\")\n",
    "driver = webdriver.Chrome(options=options)\n",
    "driver.maximize_window()\n",
    "\n",
    "driver.get('https://www.booking.com/')\n",
    "sleep(2)\n",
    "\n",
    "try:\n",
    "    first_popup = driver.find_element(By.CSS_SELECTOR, 'button[aria-label=\"Dismiss sign-in info.\"]')\n",
    "    first_popup.click()\n",
    "except:\n",
    "    pass\n",
    "    \n",
    "currency_button = driver.find_element(By.CSS_SELECTOR, 'button[data-testid=\"header-currency-picker-trigger\"]')\n",
    "currency_button.click()\n",
    "\n",
    "currency_box = driver.find_element(By.CSS_SELECTOR, 'div[data-testid=\"All currencies\"]')\n",
    "currencies = currency_box.find_elements(By.TAG_NAME, 'li')\n",
    "\n",
    "try:\n",
    "    for i in currencies:\n",
    "        if 'EUR' in i.text:\n",
    "            i.click()\n",
    "except:\n",
    "    pass\n",
    "\n",
    "choose_destination = driver.find_element(By.CSS_SELECTOR, 'input[placeholder=\"Where are you going?\"]')\n",
    "choose_destination.send_keys('New York')\n",
    "sleep(2)\n",
    "\n",
    "autocomplete_results = driver.find_elements(By.CSS_SELECTOR, 'div[data-testid=\"autocomplete-result\"]')\n",
    "autocomplete_results[0].click()\n",
    "\n",
    "check_in_element = driver.find_element(By.CSS_SELECTOR, 'span[data-date=\"2023-03-16\"]')\n",
    "check_in_element.click()\n",
    "check_out_element = driver.find_element(By.CSS_SELECTOR, 'span[data-date=\"2023-04-12\"]')\n",
    "check_out_element.click()\n",
    "\n",
    "submit_element = driver.find_element(By.CSS_SELECTOR, 'button[type=\"submit\"]')\n",
    "submit_element.click()\n",
    "\n",
    "five_stars_element = driver.find_element(By.CSS_SELECTOR, 'div[data-filters-item=\"class:class=5\"]')\n",
    "five_stars_element.click()"
   ]
  }
 ],
 "metadata": {
  "kernelspec": {
   "display_name": "Python 3 (ipykernel)",
   "language": "python",
   "name": "python3"
  },
  "language_info": {
   "codemirror_mode": {
    "name": "ipython",
    "version": 3
   },
   "file_extension": ".py",
   "mimetype": "text/x-python",
   "name": "python",
   "nbconvert_exporter": "python",
   "pygments_lexer": "ipython3",
   "version": "3.10.9"
  }
 },
 "nbformat": 4,
 "nbformat_minor": 5
}
