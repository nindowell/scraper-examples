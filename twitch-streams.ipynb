{
 "cells": [
  {
   "cell_type": "code",
   "execution_count": 1,
   "id": "73e16b9b",
   "metadata": {},
   "outputs": [],
   "source": [
    "from selenium import webdriver\n",
    "from selenium.webdriver.chrome.service import Service as ChromeService\n",
    "from webdriver_manager.chrome import ChromeDriverManager\n",
    "\n",
    "from selenium.webdriver.common.by import By\n",
    "from selenium.webdriver.chrome.options import Options\n",
    "\n",
    "from bs4 import BeautifulSoup as bs\n",
    "from time import sleep\n",
    "\n",
    "\n",
    "# FOR FIRST RUN ONLY\n",
    "# driver = webdriver.Chrome(service=ChromeService(ChromeDriverManager().install()))\n",
    "# driver.quit()"
   ]
  },
  {
   "cell_type": "code",
   "execution_count": 2,
   "id": "810bde56",
   "metadata": {},
   "outputs": [],
   "source": [
    "options = Options()\n",
    "options.add_argument(\"--window-size=1920,1080\")\n",
    "options.add_argument(\"--lang=en-US\")\n",
    "driver = webdriver.Chrome(options=options)\n",
    "driver.maximize_window()\n",
    "\n",
    "driver.get('https://www.twitch.tv/directory')\n",
    "\n",
    "sort_menu = driver.find_element(By.CSS_SELECTOR, 'button[data-a-target=\"browse-sort-menu\"]')\n",
    "sort_menu.click()\n",
    "\n",
    "sort_by_viewers = driver.find_element(By.CSS_SELECTOR, 'a[data-test-selector=\"browse-sort-VIEWER_COUNT\"]')\n",
    "sort_by_viewers.click()\n",
    "\n",
    "sleep(1)\n",
    "\n",
    "page_content = driver.page_source\n",
    "driver.quit()"
   ]
  },
  {
   "cell_type": "code",
   "execution_count": 3,
   "id": "9f03a6a1",
   "metadata": {
    "scrolled": true
   },
   "outputs": [
    {
     "name": "stdout",
     "output_type": "stream",
     "text": [
      "30\n"
     ]
    }
   ],
   "source": [
    "from parsel import Selector\n",
    "\n",
    "sel = Selector(text=page_content)\n",
    "\n",
    "data = []\n",
    "\n",
    "print(len(sel.xpath(\"//div[contains(@class,'tw-tower')]/div[@data-target]\")))\n",
    "\n",
    "for item in sel.xpath(\"//div[contains(@class,'tw-tower')]/div[@data-target]\"):\n",
    "    data.append({\n",
    "        'title': item.css('h2::text').get(),\n",
    "        'url': item.css('.tw-link::attr(href)').get(),\n",
    "        'viewers': item.css('.tw-link::text').get().split(' ')[0],\n",
    "    })"
   ]
  },
  {
   "cell_type": "code",
   "execution_count": 4,
   "id": "44799a95",
   "metadata": {
    "scrolled": true
   },
   "outputs": [
    {
     "data": {
      "text/html": [
       "<div>\n",
       "<style scoped>\n",
       "    .dataframe tbody tr th:only-of-type {\n",
       "        vertical-align: middle;\n",
       "    }\n",
       "\n",
       "    .dataframe tbody tr th {\n",
       "        vertical-align: top;\n",
       "    }\n",
       "\n",
       "    .dataframe thead th {\n",
       "        text-align: right;\n",
       "    }\n",
       "</style>\n",
       "<table border=\"1\" class=\"dataframe\">\n",
       "  <thead>\n",
       "    <tr style=\"text-align: right;\">\n",
       "      <th></th>\n",
       "      <th>title</th>\n",
       "      <th>url</th>\n",
       "      <th>viewers</th>\n",
       "    </tr>\n",
       "  </thead>\n",
       "  <tbody>\n",
       "    <tr>\n",
       "      <th>0</th>\n",
       "      <td>Diablo IV</td>\n",
       "      <td>/directory/game/Diablo%20IV</td>\n",
       "      <td>219K</td>\n",
       "    </tr>\n",
       "    <tr>\n",
       "      <th>1</th>\n",
       "      <td>Just Chatting</td>\n",
       "      <td>/directory/game/Just%20Chatting</td>\n",
       "      <td>174K</td>\n",
       "    </tr>\n",
       "    <tr>\n",
       "      <th>2</th>\n",
       "      <td>League of Legends</td>\n",
       "      <td>/directory/game/League%20of%20Legends</td>\n",
       "      <td>145K</td>\n",
       "    </tr>\n",
       "    <tr>\n",
       "      <th>3</th>\n",
       "      <td>VALORANT</td>\n",
       "      <td>/directory/game/VALORANT</td>\n",
       "      <td>113K</td>\n",
       "    </tr>\n",
       "    <tr>\n",
       "      <th>4</th>\n",
       "      <td>Dota 2</td>\n",
       "      <td>/directory/game/Dota%202</td>\n",
       "      <td>56.3K</td>\n",
       "    </tr>\n",
       "  </tbody>\n",
       "</table>\n",
       "</div>"
      ],
      "text/plain": [
       "               title                                    url viewers\n",
       "0          Diablo IV            /directory/game/Diablo%20IV    219K\n",
       "1      Just Chatting        /directory/game/Just%20Chatting    174K\n",
       "2  League of Legends  /directory/game/League%20of%20Legends    145K\n",
       "3           VALORANT               /directory/game/VALORANT    113K\n",
       "4             Dota 2               /directory/game/Dota%202   56.3K"
      ]
     },
     "execution_count": 4,
     "metadata": {},
     "output_type": "execute_result"
    }
   ],
   "source": [
    "import pandas as pd\n",
    "\n",
    "df = pd.DataFrame(data, columns=['title', 'url', 'viewers'])\n",
    "df.head()"
   ]
  }
 ],
 "metadata": {
  "kernelspec": {
   "display_name": "Python 3 (ipykernel)",
   "language": "python",
   "name": "python3"
  },
  "language_info": {
   "codemirror_mode": {
    "name": "ipython",
    "version": 3
   },
   "file_extension": ".py",
   "mimetype": "text/x-python",
   "name": "python",
   "nbconvert_exporter": "python",
   "pygments_lexer": "ipython3",
   "version": "3.10.9"
  }
 },
 "nbformat": 4,
 "nbformat_minor": 5
}
